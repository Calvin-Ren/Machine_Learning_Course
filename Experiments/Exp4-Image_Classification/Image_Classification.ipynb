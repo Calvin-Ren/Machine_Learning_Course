{
  "cells": [
    {
      "cell_type": "code",
      "execution_count": null,
      "metadata": {
        "colab": {
          "base_uri": "https://localhost:8080/"
        },
        "id": "2VBdo48tIPrI",
        "outputId": "205d4c91-0c0f-4e81-8154-3c580f208300"
      },
      "outputs": [
        {
          "output_type": "stream",
          "name": "stdout",
          "text": [
            "Looking in indexes: https://pypi.org/simple, https://us-python.pkg.dev/colab-wheels/public/simple/\n",
            "Requirement already satisfied: tensorflow-datasets in /usr/local/lib/python3.8/dist-packages (4.6.0)\n",
            "Requirement already satisfied: promise in /usr/local/lib/python3.8/dist-packages (from tensorflow-datasets) (2.3)\n",
            "Requirement already satisfied: requests>=2.19.0 in /usr/local/lib/python3.8/dist-packages (from tensorflow-datasets) (2.23.0)\n",
            "Requirement already satisfied: numpy in /usr/local/lib/python3.8/dist-packages (from tensorflow-datasets) (1.21.6)\n",
            "Requirement already satisfied: etils[epath] in /usr/local/lib/python3.8/dist-packages (from tensorflow-datasets) (0.9.0)\n",
            "Requirement already satisfied: tqdm in /usr/local/lib/python3.8/dist-packages (from tensorflow-datasets) (4.64.1)\n",
            "Requirement already satisfied: importlib-resources in /usr/local/lib/python3.8/dist-packages (from tensorflow-datasets) (5.10.0)\n",
            "Requirement already satisfied: tensorflow-metadata in /usr/local/lib/python3.8/dist-packages (from tensorflow-datasets) (1.11.0)\n",
            "Requirement already satisfied: termcolor in /usr/local/lib/python3.8/dist-packages (from tensorflow-datasets) (2.1.1)\n",
            "Requirement already satisfied: dill in /usr/local/lib/python3.8/dist-packages (from tensorflow-datasets) (0.3.6)\n",
            "Requirement already satisfied: absl-py in /usr/local/lib/python3.8/dist-packages (from tensorflow-datasets) (1.3.0)\n",
            "Requirement already satisfied: protobuf>=3.12.2 in /usr/local/lib/python3.8/dist-packages (from tensorflow-datasets) (3.19.6)\n",
            "Requirement already satisfied: six in /usr/local/lib/python3.8/dist-packages (from tensorflow-datasets) (1.15.0)\n",
            "Requirement already satisfied: toml in /usr/local/lib/python3.8/dist-packages (from tensorflow-datasets) (0.10.2)\n",
            "Requirement already satisfied: chardet<4,>=3.0.2 in /usr/local/lib/python3.8/dist-packages (from requests>=2.19.0->tensorflow-datasets) (3.0.4)\n",
            "Requirement already satisfied: idna<3,>=2.5 in /usr/local/lib/python3.8/dist-packages (from requests>=2.19.0->tensorflow-datasets) (2.10)\n",
            "Requirement already satisfied: urllib3!=1.25.0,!=1.25.1,<1.26,>=1.21.1 in /usr/local/lib/python3.8/dist-packages (from requests>=2.19.0->tensorflow-datasets) (1.24.3)\n",
            "Requirement already satisfied: certifi>=2017.4.17 in /usr/local/lib/python3.8/dist-packages (from requests>=2.19.0->tensorflow-datasets) (2022.9.24)\n",
            "Requirement already satisfied: typing_extensions in /usr/local/lib/python3.8/dist-packages (from etils[epath]->tensorflow-datasets) (4.4.0)\n",
            "Requirement already satisfied: zipp in /usr/local/lib/python3.8/dist-packages (from etils[epath]->tensorflow-datasets) (3.11.0)\n",
            "Requirement already satisfied: googleapis-common-protos<2,>=1.52.0 in /usr/local/lib/python3.8/dist-packages (from tensorflow-metadata->tensorflow-datasets) (1.57.0)\n"
          ]
        }
      ],
      "source": [
        "!pip install tensorflow-datasets"
      ]
    },
    {
      "cell_type": "code",
      "execution_count": null,
      "metadata": {
        "id": "2fzzdXzgIDb2"
      },
      "outputs": [],
      "source": [
        "import tensorflow as tf\n",
        "from keras.models import Sequential\n",
        "import numpy as np\n",
        "import pandas as pd\n",
        "import tensorflow_datasets as tfds\n",
        "import matplotlib.pyplot as plt\n",
        "from keras import layers\n",
        "import tensorflow_hub as hub\n",
        "from sklearn.metrics import classification_report"
      ]
    },
    {
      "cell_type": "code",
      "execution_count": null,
      "metadata": {
        "colab": {
          "base_uri": "https://localhost:8080/",
          "height": 140,
          "referenced_widgets": [
            "317344c09a4d45e4a0d4c2eb35cc012f",
            "dc6cbc28204441f48f5a6b1128166b0d",
            "c759663d831e48bd98507f09aacb4201",
            "4a35663d9d1e4cfeabb2424c5520df6e",
            "cb8677f507d34484bab94c0036405fa9",
            "aa9b070766444b86bc3ab995ae6d5a7e",
            "d1491b472b544d5c9f8bff5d9b76d1b0",
            "391d182d338f4af7985a12219c8e4922",
            "0b1958566c9848eca80a41016bed39a7",
            "aa222f834fdf43d189adc793c84f5d60",
            "6f2df95af1264df0a3ef85ba46666beb"
          ]
        },
        "id": "vNtfyodJJnpf",
        "outputId": "d60ce180-5dc8-41e7-eabf-5651a844aab1"
      },
      "outputs": [
        {
          "output_type": "stream",
          "name": "stdout",
          "text": [
            "Downloading and preparing dataset 218.21 MiB (download: 218.21 MiB, generated: 221.83 MiB, total: 440.05 MiB) to ./tf_flowers/3.0.1...\n"
          ]
        },
        {
          "output_type": "display_data",
          "data": {
            "text/plain": [
              "Dl Completed...:   0%|          | 0/5 [00:00<?, ? file/s]"
            ],
            "application/vnd.jupyter.widget-view+json": {
              "version_major": 2,
              "version_minor": 0,
              "model_id": "317344c09a4d45e4a0d4c2eb35cc012f"
            }
          },
          "metadata": {}
        },
        {
          "output_type": "stream",
          "name": "stdout",
          "text": [
            "Dataset tf_flowers downloaded and prepared to ./tf_flowers/3.0.1. Subsequent calls will reuse this data.\n",
            "Training Set Size: 2936\n",
            "Test Set Size: 734\n"
          ]
        }
      ],
      "source": [
        "(training_set, test_set), info = tfds.load(\n",
        "    'tf_flowers',\n",
        "    data_dir = './',\n",
        "    split=['train[:80%]', 'train[80%:]'],\n",
        "    with_info=True,\n",
        "    as_supervised=True,\n",
        ")\n",
        "print(\"Training Set Size: %d\" % training_set.cardinality().numpy())\n",
        "print(\"Test Set Size: %d\" % test_set.cardinality().numpy())"
      ]
    },
    {
      "cell_type": "code",
      "execution_count": null,
      "metadata": {
        "id": "P02xpYOMVw1e"
      },
      "outputs": [],
      "source": [
        "IMG_SIZE = 224\n",
        "  \n",
        "def format_image(image, label):\n",
        "  \n",
        "    image = tf.image.resize(image, (IMG_SIZE, IMG_SIZE))\n",
        "      \n",
        "    # Normalisation\n",
        "    image = image/255.0\n",
        "    return image, label\n",
        "  \n",
        "batch_size = 32\n",
        "training_set = training_set.shuffle(300).map(format_image).batch(batch_size).prefetch(1)\n",
        "test_set = test_set.map(format_image).batch(batch_size).prefetch(1)"
      ]
    },
    {
      "cell_type": "code",
      "source": [
        "data_augmentation = Sequential(\n",
        "  [\n",
        "    layers.RandomFlip(\"horizontal\", input_shape=(224, 224, 3)),\n",
        "    layers.RandomRotation(0.1),\n",
        "    layers.RandomZoom(0.1),\n",
        "  ]\n",
        ")"
      ],
      "metadata": {
        "id": "pSuwJ3OiurU_"
      },
      "execution_count": null,
      "outputs": []
    },
    {
      "cell_type": "code",
      "execution_count": null,
      "metadata": {
        "id": "MkYXdJZajBja"
      },
      "outputs": [],
      "source": [
        "def getModel():\n",
        "  model = Sequential()\n",
        "  # pretrained_model= tf.keras.applications.xception.Xception(include_top=False,\n",
        "  #                  input_shape=(224, 224, 3),\n",
        "  #                  weights='imagenet')\n",
        "  # for layer in pretrained_model.layers:\n",
        "  #     layer.trainable=False\n",
        "  model.add(data_augmentation)\n",
        "  # model.add(layers.Dense(64, activation='relu'))\n",
        "  model.add(layers.Flatten())\n",
        "  model.add(layers.Dense(256, activation='relu'))\n",
        "  model.add(layers.Dense(5, activation='softmax'))  \n",
        "  model.summary()\n",
        "\n",
        "  return model"
      ]
    },
    {
      "cell_type": "code",
      "execution_count": null,
      "metadata": {
        "colab": {
          "base_uri": "https://localhost:8080/",
          "height": 1000
        },
        "id": "qeBP1J74V9ko",
        "outputId": "6993c4eb-2f5c-4ef5-bcbc-a5d63c466c65"
      },
      "outputs": [
        {
          "output_type": "stream",
          "name": "stdout",
          "text": [
            "Model: \"sequential_8\"\n",
            "_________________________________________________________________\n",
            " Layer (type)                Output Shape              Param #   \n",
            "=================================================================\n",
            " sequential (Sequential)     (None, 224, 224, 3)       0         \n",
            "                                                                 \n",
            " flatten_7 (Flatten)         (None, 150528)            0         \n",
            "                                                                 \n",
            " dense_14 (Dense)            (None, 256)               38535424  \n",
            "                                                                 \n",
            " dense_15 (Dense)            (None, 5)                 1285      \n",
            "                                                                 \n",
            "=================================================================\n",
            "Total params: 38,536,709\n",
            "Trainable params: 38,536,709\n",
            "Non-trainable params: 0\n",
            "_________________________________________________________________\n",
            "Epoch 1/15\n",
            "92/92 [==============================] - 11s 84ms/step - loss: 21.6085 - accuracy: 0.3266 - val_loss: 4.5197 - val_accuracy: 0.3161\n",
            "Epoch 2/15\n",
            "92/92 [==============================] - 5s 50ms/step - loss: 4.6190 - accuracy: 0.3556 - val_loss: 3.3370 - val_accuracy: 0.3951\n",
            "Epoch 3/15\n",
            "92/92 [==============================] - 5s 50ms/step - loss: 4.6881 - accuracy: 0.3546 - val_loss: 3.4508 - val_accuracy: 0.4251\n",
            "Epoch 4/15\n",
            "92/92 [==============================] - 5s 50ms/step - loss: 4.3065 - accuracy: 0.3522 - val_loss: 3.5154 - val_accuracy: 0.3801\n",
            "Epoch 5/15\n",
            "92/92 [==============================] - 5s 49ms/step - loss: 3.9099 - accuracy: 0.3743 - val_loss: 2.2098 - val_accuracy: 0.4114\n",
            "Epoch 6/15\n",
            "92/92 [==============================] - 5s 49ms/step - loss: 2.8661 - accuracy: 0.4097 - val_loss: 3.3558 - val_accuracy: 0.3815\n",
            "Epoch 7/15\n",
            "92/92 [==============================] - 5s 49ms/step - loss: 2.2765 - accuracy: 0.3832 - val_loss: 1.9708 - val_accuracy: 0.3883\n",
            "Epoch 8/15\n",
            "92/92 [==============================] - 6s 60ms/step - loss: 2.2211 - accuracy: 0.3913 - val_loss: 2.9630 - val_accuracy: 0.3474\n",
            "Epoch 9/15\n",
            "92/92 [==============================] - 5s 50ms/step - loss: 2.4147 - accuracy: 0.3832 - val_loss: 1.6260 - val_accuracy: 0.4564\n",
            "Epoch 10/15\n",
            "92/92 [==============================] - 5s 49ms/step - loss: 1.6636 - accuracy: 0.4094 - val_loss: 1.5344 - val_accuracy: 0.4142\n",
            "Epoch 11/15\n",
            "92/92 [==============================] - 5s 49ms/step - loss: 1.4982 - accuracy: 0.4315 - val_loss: 1.5265 - val_accuracy: 0.4605\n",
            "Epoch 12/15\n",
            "92/92 [==============================] - 5s 50ms/step - loss: 1.7240 - accuracy: 0.3985 - val_loss: 2.0127 - val_accuracy: 0.3978\n",
            "Epoch 13/15\n",
            "92/92 [==============================] - 5s 50ms/step - loss: 1.7420 - accuracy: 0.3944 - val_loss: 1.3817 - val_accuracy: 0.3883\n",
            "Epoch 14/15\n",
            "92/92 [==============================] - 5s 50ms/step - loss: 1.4429 - accuracy: 0.3416 - val_loss: 1.4458 - val_accuracy: 0.3883\n",
            "Epoch 15/15\n",
            "92/92 [==============================] - 5s 51ms/step - loss: 1.4361 - accuracy: 0.3709 - val_loss: 1.4849 - val_accuracy: 0.3597\n"
          ]
        },
        {
          "output_type": "display_data",
          "data": {
            "text/plain": [
              "<Figure size 432x288 with 1 Axes>"
            ],
            "image/png": "[encoded data removed]"
          },
          "metadata": {
            "needs_background": "light"
          }
        },
        {
          "output_type": "display_data",
          "data": {
            "text/plain": [
              "<Figure size 432x288 with 1 Axes>"
            ],
            "image/png": "[encoded data removed]"
          },
          "metadata": {
            "needs_background": "light"
          }
        }
      ],
      "source": [
        "model = getModel()\n",
        "  \n",
        "model.compile(optimizer='adam', \n",
        "              loss='sparse_categorical_crossentropy',\n",
        "              metrics='accuracy')\n",
        "  \n",
        "epochs = 15\n",
        "history = model.fit(training_set, epochs=epochs, \n",
        "          validation_data=test_set)\n",
        "\n",
        "# 绘制训练 & 验证的准确率值\n",
        "plt.plot(history.history['accuracy'])\n",
        "plt.plot(history.history['val_accuracy'])\n",
        "plt.title('Model accuracy')\n",
        "plt.ylabel('Accuracy')\n",
        "plt.xlabel('Epoch')\n",
        "plt.legend(['Train', 'Test'], loc='upper left')\n",
        "plt.show()\n",
        "\n",
        "# 绘制训练 & 验证的损失值\n",
        "plt.plot(history.history['loss'])\n",
        "plt.plot(history.history['val_loss'])\n",
        "plt.title('Model loss')\n",
        "plt.ylabel('Loss')\n",
        "plt.xlabel('Epoch')\n",
        "plt.legend(['Train', 'Test'], loc='upper left')\n",
        "plt.show()"
      ]
    },
    {
      "cell_type": "code",
      "execution_count": null,
      "metadata": {
        "colab": {
          "base_uri": "https://localhost:8080/"
        },
        "id": "zL4_W6XsWC7W",
        "outputId": "033ba87c-a080-46fd-b3e5-0448240a4362"
      },
      "outputs": [
        {
          "output_type": "stream",
          "name": "stdout",
          "text": [
            "23/23 [==============================] - 3s 130ms/step - loss: 0.4180 - accuracy: 0.8937\n",
            "loss 0.41804012656211853\n",
            "accuracy 0.8937329649925232\n",
            "1/1 [==============================] - 1s 654ms/step\n",
            "              precision    recall  f1-score   support\n",
            "\n",
            "           0       0.86      1.00      0.92         6\n",
            "           1       1.00      1.00      1.00         4\n",
            "           2       1.00      0.82      0.90        11\n",
            "           3       1.00      0.86      0.92         7\n",
            "           4       0.67      1.00      0.80         4\n",
            "\n",
            "    accuracy                           0.91        32\n",
            "   macro avg       0.90      0.94      0.91        32\n",
            "weighted avg       0.93      0.91      0.91        32\n",
            "\n"
          ]
        }
      ],
      "source": [
        "res = model.evaluate(test_set)\n",
        "for (name, value) in zip(model.metrics_names, res):\n",
        "    print(name, value) \n",
        "\n",
        "img, labl = next(iter(test_set))\n",
        "print(classification_report(labl, np.argmax(model.predict(img), axis=1)))"
      ]
    }
  ],
  "metadata": {
    "accelerator": "GPU",
    "colab": {
      "provenance": []
    },
    "gpuClass": "standard",
    "kernelspec": {
      "display_name": "Python 3",
      "name": "python3"
    },
    "language_info": {
      "name": "python"
    },
    "widgets": {
      "application/vnd.jupyter.widget-state+json": {
        "317344c09a4d45e4a0d4c2eb35cc012f": {
          "model_module": "@jupyter-widgets/controls",
          "model_name": "HBoxModel",
          "model_module_version": "1.5.0",
          "state": {
            "_dom_classes": [],
            "_model_module": "@jupyter-widgets/controls",
            "_model_module_version": "1.5.0",
            "_model_name": "HBoxModel",
            "_view_count": null,
            "_view_module": "@jupyter-widgets/controls",
            "_view_module_version": "1.5.0",
            "_view_name": "HBoxView",
            "box_style": "",
            "children": [
              "IPY_MODEL_dc6cbc28204441f48f5a6b1128166b0d",
              "IPY_MODEL_c759663d831e48bd98507f09aacb4201",
              "IPY_MODEL_4a35663d9d1e4cfeabb2424c5520df6e"
            ],
            "layout": "IPY_MODEL_cb8677f507d34484bab94c0036405fa9"
          }
        },
        "dc6cbc28204441f48f5a6b1128166b0d": {
          "model_module": "@jupyter-widgets/controls",
          "model_name": "HTMLModel",
          "model_module_version": "1.5.0",
          "state": {
            "_dom_classes": [],
            "_model_module": "@jupyter-widgets/controls",
            "_model_module_version": "1.5.0",
            "_model_name": "HTMLModel",
            "_view_count": null,
            "_view_module": "@jupyter-widgets/controls",
            "_view_module_version": "1.5.0",
            "_view_name": "HTMLView",
            "description": "",
            "description_tooltip": null,
            "layout": "IPY_MODEL_aa9b070766444b86bc3ab995ae6d5a7e",
            "placeholder": "​",
            "style": "IPY_MODEL_d1491b472b544d5c9f8bff5d9b76d1b0",
            "value": "Dl Completed...: 100%"
          }
        },
        "c759663d831e48bd98507f09aacb4201": {
          "model_module": "@jupyter-widgets/controls",
          "model_name": "FloatProgressModel",
          "model_module_version": "1.5.0",
          "state": {
            "_dom_classes": [],
            "_model_module": "@jupyter-widgets/controls",
            "_model_module_version": "1.5.0",
            "_model_name": "FloatProgressModel",
            "_view_count": null,
            "_view_module": "@jupyter-widgets/controls",
            "_view_module_version": "1.5.0",
            "_view_name": "ProgressView",
            "bar_style": "success",
            "description": "",
            "description_tooltip": null,
            "layout": "IPY_MODEL_391d182d338f4af7985a12219c8e4922",
            "max": 5,
            "min": 0,
            "orientation": "horizontal",
            "style": "IPY_MODEL_0b1958566c9848eca80a41016bed39a7",
            "value": 5
          }
        },
        "4a35663d9d1e4cfeabb2424c5520df6e": {
          "model_module": "@jupyter-widgets/controls",
          "model_name": "HTMLModel",
          "model_module_version": "1.5.0",
          "state": {
            "_dom_classes": [],
            "_model_module": "@jupyter-widgets/controls",
            "_model_module_version": "1.5.0",
            "_model_name": "HTMLModel",
            "_view_count": null,
            "_view_module": "@jupyter-widgets/controls",
            "_view_module_version": "1.5.0",
            "_view_name": "HTMLView",
            "description": "",
            "description_tooltip": null,
            "layout": "IPY_MODEL_aa222f834fdf43d189adc793c84f5d60",
            "placeholder": "​",
            "style": "IPY_MODEL_6f2df95af1264df0a3ef85ba46666beb",
            "value": " 5/5 [00:18&lt;00:00,  4.76s/ file]"
          }
        },
        "cb8677f507d34484bab94c0036405fa9": {
          "model_module": "@jupyter-widgets/base",
          "model_name": "LayoutModel",
          "model_module_version": "1.2.0",
          "state": {
            "_model_module": "@jupyter-widgets/base",
            "_model_module_version": "1.2.0",
            "_model_name": "LayoutModel",
            "_view_count": null,
            "_view_module": "@jupyter-widgets/base",
            "_view_module_version": "1.2.0",
            "_view_name": "LayoutView",
            "align_content": null,
            "align_items": null,
            "align_self": null,
            "border": null,
            "bottom": null,
            "display": null,
            "flex": null,
            "flex_flow": null,
            "grid_area": null,
            "grid_auto_columns": null,
            "grid_auto_flow": null,
            "grid_auto_rows": null,
            "grid_column": null,
            "grid_gap": null,
            "grid_row": null,
            "grid_template_areas": null,
            "grid_template_columns": null,
            "grid_template_rows": null,
            "height": null,
            "justify_content": null,
            "justify_items": null,
            "left": null,
            "margin": null,
            "max_height": null,
            "max_width": null,
            "min_height": null,
            "min_width": null,
            "object_fit": null,
            "object_position": null,
            "order": null,
            "overflow": null,
            "overflow_x": null,
            "overflow_y": null,
            "padding": null,
            "right": null,
            "top": null,
            "visibility": null,
            "width": null
          }
        },
        "aa9b070766444b86bc3ab995ae6d5a7e": {
          "model_module": "@jupyter-widgets/base",
          "model_name": "LayoutModel",
          "model_module_version": "1.2.0",
          "state": {
            "_model_module": "@jupyter-widgets/base",
            "_model_module_version": "1.2.0",
            "_model_name": "LayoutModel",
            "_view_count": null,
            "_view_module": "@jupyter-widgets/base",
            "_view_module_version": "1.2.0",
            "_view_name": "LayoutView",
            "align_content": null,
            "align_items": null,
            "align_self": null,
            "border": null,
            "bottom": null,
            "display": null,
            "flex": null,
            "flex_flow": null,
            "grid_area": null,
            "grid_auto_columns": null,
            "grid_auto_flow": null,
            "grid_auto_rows": null,
            "grid_column": null,
            "grid_gap": null,
            "grid_row": null,
            "grid_template_areas": null,
            "grid_template_columns": null,
            "grid_template_rows": null,
            "height": null,
            "justify_content": null,
            "justify_items": null,
            "left": null,
            "margin": null,
            "max_height": null,
            "max_width": null,
            "min_height": null,
            "min_width": null,
            "object_fit": null,
            "object_position": null,
            "order": null,
            "overflow": null,
            "overflow_x": null,
            "overflow_y": null,
            "padding": null,
            "right": null,
            "top": null,
            "visibility": null,
            "width": null
          }
        },
        "d1491b472b544d5c9f8bff5d9b76d1b0": {
          "model_module": "@jupyter-widgets/controls",
          "model_name": "DescriptionStyleModel",
          "model_module_version": "1.5.0",
          "state": {
            "_model_module": "@jupyter-widgets/controls",
            "_model_module_version": "1.5.0",
            "_model_name": "DescriptionStyleModel",
            "_view_count": null,
            "_view_module": "@jupyter-widgets/base",
            "_view_module_version": "1.2.0",
            "_view_name": "StyleView",
            "description_width": ""
          }
        },
        "391d182d338f4af7985a12219c8e4922": {
          "model_module": "@jupyter-widgets/base",
          "model_name": "LayoutModel",
          "model_module_version": "1.2.0",
          "state": {
            "_model_module": "@jupyter-widgets/base",
            "_model_module_version": "1.2.0",
            "_model_name": "LayoutModel",
            "_view_count": null,
            "_view_module": "@jupyter-widgets/base",
            "_view_module_version": "1.2.0",
            "_view_name": "LayoutView",
            "align_content": null,
            "align_items": null,
            "align_self": null,
            "border": null,
            "bottom": null,
            "display": null,
            "flex": null,
            "flex_flow": null,
            "grid_area": null,
            "grid_auto_columns": null,
            "grid_auto_flow": null,
            "grid_auto_rows": null,
            "grid_column": null,
            "grid_gap": null,
            "grid_row": null,
            "grid_template_areas": null,
            "grid_template_columns": null,
            "grid_template_rows": null,
            "height": null,
            "justify_content": null,
            "justify_items": null,
            "left": null,
            "margin": null,
            "max_height": null,
            "max_width": null,
            "min_height": null,
            "min_width": null,
            "object_fit": null,
            "object_position": null,
            "order": null,
            "overflow": null,
            "overflow_x": null,
            "overflow_y": null,
            "padding": null,
            "right": null,
            "top": null,
            "visibility": null,
            "width": null
          }
        },
        "0b1958566c9848eca80a41016bed39a7": {
          "model_module": "@jupyter-widgets/controls",
          "model_name": "ProgressStyleModel",
          "model_module_version": "1.5.0",
          "state": {
            "_model_module": "@jupyter-widgets/controls",
            "_model_module_version": "1.5.0",
            "_model_name": "ProgressStyleModel",
            "_view_count": null,
            "_view_module": "@jupyter-widgets/base",
            "_view_module_version": "1.2.0",
            "_view_name": "StyleView",
            "bar_color": null,
            "description_width": ""
          }
        },
        "aa222f834fdf43d189adc793c84f5d60": {
          "model_module": "@jupyter-widgets/base",
          "model_name": "LayoutModel",
          "model_module_version": "1.2.0",
          "state": {
            "_model_module": "@jupyter-widgets/base",
            "_model_module_version": "1.2.0",
            "_model_name": "LayoutModel",
            "_view_count": null,
            "_view_module": "@jupyter-widgets/base",
            "_view_module_version": "1.2.0",
            "_view_name": "LayoutView",
            "align_content": null,
            "align_items": null,
            "align_self": null,
            "border": null,
            "bottom": null,
            "display": null,
            "flex": null,
            "flex_flow": null,
            "grid_area": null,
            "grid_auto_columns": null,
            "grid_auto_flow": null,
            "grid_auto_rows": null,
            "grid_column": null,
            "grid_gap": null,
            "grid_row": null,
            "grid_template_areas": null,
            "grid_template_columns": null,
            "grid_template_rows": null,
            "height": null,
            "justify_content": null,
            "justify_items": null,
            "left": null,
            "margin": null,
            "max_height": null,
            "max_width": null,
            "min_height": null,
            "min_width": null,
            "object_fit": null,
            "object_position": null,
            "order": null,
            "overflow": null,
            "overflow_x": null,
            "overflow_y": null,
            "padding": null,
            "right": null,
            "top": null,
            "visibility": null,
            "width": null
          }
        },
        "6f2df95af1264df0a3ef85ba46666beb": {
          "model_module": "@jupyter-widgets/controls",
          "model_name": "DescriptionStyleModel",
          "model_module_version": "1.5.0",
          "state": {
            "_model_module": "@jupyter-widgets/controls",
            "_model_module_version": "1.5.0",
            "_model_name": "DescriptionStyleModel",
            "_view_count": null,
            "_view_module": "@jupyter-widgets/base",
            "_view_module_version": "1.2.0",
            "_view_name": "StyleView",
            "description_width": ""
          }
        }
      }
    }
  },
  "nbformat": 4,
  "nbformat_minor": 0
}